{
 "cells": [
  {
   "cell_type": "markdown",
   "id": "8ee63629",
   "metadata": {},
   "source": [
    "# Loading data\n",
    "This notebook loads the csv data into a sqlite database"
   ]
  },
  {
   "cell_type": "code",
   "execution_count": 6,
   "id": "d51ff234",
   "metadata": {},
   "outputs": [],
   "source": [
    "import kagglehub\n",
    "import os\n",
    "import pandas as pd\n",
    "import sqlite3\n",
    "from pathlib import Path\n",
    "\n",
    "# Download latest version\n",
    "dataset_path = kagglehub.dataset_download(\"olistbr/brazilian-ecommerce\")"
   ]
  },
  {
   "cell_type": "code",
   "execution_count": 7,
   "id": "9bc6ac99",
   "metadata": {},
   "outputs": [],
   "source": [
    "# Define paths\n",
    "raw_data_path = dataset_path\n",
    "sqlite_db_path = os.path.join('\\\\'.join(Path(dataset_path).parts[0:-1]), 'data', 'sqlite', 'olist.db')\n",
    "\n",
    "# Ensure the SQLite directory exists\n",
    "os.makedirs(os.path.dirname(sqlite_db_path), exist_ok=True)"
   ]
  },
  {
   "cell_type": "code",
   "execution_count": 8,
   "id": "484a5f14",
   "metadata": {},
   "outputs": [
    {
     "name": "stdout",
     "output_type": "stream",
     "text": [
      "Loading olist_customers_dataset.csv into table olist_customers_dataset...\n",
      "Loading olist_geolocation_dataset.csv into table olist_geolocation_dataset...\n",
      "Loading olist_orders_dataset.csv into table olist_orders_dataset...\n",
      "Loading olist_order_items_dataset.csv into table olist_order_items_dataset...\n",
      "Loading olist_order_payments_dataset.csv into table olist_order_payments_dataset...\n",
      "Loading olist_order_reviews_dataset.csv into table olist_order_reviews_dataset...\n",
      "Loading olist_products_dataset.csv into table olist_products_dataset...\n",
      "Loading olist_sellers_dataset.csv into table olist_sellers_dataset...\n",
      "Loading product_category_name_translation.csv into table product_category_name_translation...\n",
      "All tables loaded successfully.\n"
     ]
    }
   ],
   "source": [
    "# Connect to SQLite database\n",
    "conn = sqlite3.connect(sqlite_db_path)\n",
    "\n",
    "# Iterate over CSV files and load them into SQLite\n",
    "for file in os.listdir(raw_data_path):\n",
    "    if file.endswith('.csv'):\n",
    "        table_name = file.replace('.csv', '')\n",
    "        csv_path = os.path.join(raw_data_path, file)\n",
    "        print(f\"Loading {file} into table {table_name}...\")\n",
    "        df = pd.read_csv(csv_path)\n",
    "        df.to_sql(table_name, conn, if_exists='replace', index=False)\n",
    "\n",
    "# Close the connection\n",
    "conn.close()\n",
    "print(\"All tables loaded successfully.\")"
   ]
  },
  {
   "cell_type": "code",
   "execution_count": 9,
   "id": "5c7597bf",
   "metadata": {},
   "outputs": [
    {
     "name": "stdout",
     "output_type": "stream",
     "text": [
      "Tables in the database: [('olist_customers_dataset',), ('olist_geolocation_dataset',), ('olist_orders_dataset',), ('olist_order_items_dataset',), ('olist_order_payments_dataset',), ('olist_order_reviews_dataset',), ('olist_products_dataset',), ('olist_sellers_dataset',), ('product_category_name_translation',)]\n",
      "                           order_id                       customer_id  \\\n",
      "0  e481f51cbdc54678b7cc49136f2d6af7  9ef432eb6251297304e76186b10a928d   \n",
      "1  53cdb2fc8bc7dce0b6741e2150273451  b0830fb4747a6c6d20dea0b8c802d7ef   \n",
      "2  47770eb9100c2d0c44946d9cf07ec65d  41ce2a54c0b03bf3443c3d931a367089   \n",
      "3  949d5b44dbf5de918fe9c16f97b45f8a  f88197465ea7920adcdbec7375364d82   \n",
      "4  ad21c59c0840e6cb83a9ceb5573f8159  8ab97904e6daea8866dbdbc4fb7aad2c   \n",
      "\n",
      "  order_status order_purchase_timestamp    order_approved_at  \\\n",
      "0    delivered      2017-10-02 10:56:33  2017-10-02 11:07:15   \n",
      "1    delivered      2018-07-24 20:41:37  2018-07-26 03:24:27   \n",
      "2    delivered      2018-08-08 08:38:49  2018-08-08 08:55:23   \n",
      "3    delivered      2017-11-18 19:28:06  2017-11-18 19:45:59   \n",
      "4    delivered      2018-02-13 21:18:39  2018-02-13 22:20:29   \n",
      "\n",
      "  order_delivered_carrier_date order_delivered_customer_date  \\\n",
      "0          2017-10-04 19:55:00           2017-10-10 21:25:13   \n",
      "1          2018-07-26 14:31:00           2018-08-07 15:27:45   \n",
      "2          2018-08-08 13:50:00           2018-08-17 18:06:29   \n",
      "3          2017-11-22 13:39:59           2017-12-02 00:28:42   \n",
      "4          2018-02-14 19:46:34           2018-02-16 18:17:02   \n",
      "\n",
      "  order_estimated_delivery_date  \n",
      "0           2017-10-18 00:00:00  \n",
      "1           2018-08-13 00:00:00  \n",
      "2           2018-09-04 00:00:00  \n",
      "3           2017-12-15 00:00:00  \n",
      "4           2018-02-26 00:00:00  \n"
     ]
    }
   ],
   "source": [
    "# Reconnect to the database\n",
    "conn = sqlite3.connect(sqlite_db_path)\n",
    "cursor = conn.cursor()\n",
    "\n",
    "# List all tables\n",
    "cursor.execute(\"SELECT name FROM sqlite_master WHERE type='table';\")\n",
    "tables = cursor.fetchall()\n",
    "print(\"Tables in the database:\", tables)\n",
    "\n",
    "# Preview the first few rows of a table\n",
    "df_orders = pd.read_sql_query(\"SELECT * FROM olist_orders_dataset LIMIT 5;\", conn)\n",
    "print(df_orders)\n",
    "\n",
    "# Close the connection\n",
    "conn.close()"
   ]
  }
 ],
 "metadata": {
  "kernelspec": {
   "display_name": "Python 3 (ipykernel)",
   "language": "python",
   "name": "python3"
  },
  "language_info": {
   "codemirror_mode": {
    "name": "ipython",
    "version": 3
   },
   "file_extension": ".py",
   "mimetype": "text/x-python",
   "name": "python",
   "nbconvert_exporter": "python",
   "pygments_lexer": "ipython3",
   "version": "3.9.13"
  }
 },
 "nbformat": 4,
 "nbformat_minor": 5
}
